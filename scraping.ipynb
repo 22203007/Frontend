{
  "nbformat": 4,
  "nbformat_minor": 0,
  "metadata": {
    "colab": {
      "provenance": [],
      "authorship_tag": "ABX9TyM1UNGLTHf+4kGTQEJnPhkq",
      "include_colab_link": true
    },
    "kernelspec": {
      "name": "python3",
      "display_name": "Python 3"
    },
    "language_info": {
      "name": "python"
    }
  },
  "cells": [
    {
      "cell_type": "markdown",
      "metadata": {
        "id": "view-in-github",
        "colab_type": "text"
      },
      "source": [
        "<a href=\"https://colab.research.google.com/github/22203007/Bhuvan/blob/main/scraping.ipynb\" target=\"_parent\"><img src=\"https://colab.research.google.com/assets/colab-badge.svg\" alt=\"Open In Colab\"/></a>"
      ]
    },
    {
      "cell_type": "code",
      "execution_count": 3,
      "metadata": {
        "id": "GW2oun3BkMSA"
      },
      "outputs": [],
      "source": [
        "import requests"
      ]
    },
    {
      "cell_type": "code",
      "source": [
        "from bs4 import BeautifulSoup"
      ],
      "metadata": {
        "id": "OH_qXfozljdx"
      },
      "execution_count": 11,
      "outputs": []
    },
    {
      "cell_type": "code",
      "source": [
        "import pandas as pd"
      ],
      "metadata": {
        "id": "D39jRjIlq3W7"
      },
      "execution_count": 33,
      "outputs": []
    },
    {
      "cell_type": "code",
      "source": [
        "books=[]\n",
        "for i in range(1,51):\n",
        "  url=f\"https://books.toscrape.com/catalogue/page-{i}.html\"\n",
        "  response = requests.get(url)\n",
        "  response=response.content\n",
        "  soup=BeautifulSoup(response,'html.parser')\n",
        "  ol=soup.find('ol')\n",
        "  articles=ol.find_all('article',class_='product_pod')\n",
        "\n",
        "  for article in articles:\n",
        "    image=article.find('img')\n",
        "    title=image.attrs['alt']\n",
        "    star=article.find('p')\n",
        "    star=star['class'][1]\n",
        "    price=article.find('p',class_='price_color').text\n",
        "    books.append([title,price,star])\n",
        "\n"
      ],
      "metadata": {
        "id": "aIgHx8UqnnwO"
      },
      "execution_count": 34,
      "outputs": []
    },
    {
      "cell_type": "code",
      "source": [
        "df=pd.DataFrame(books, columns=['Title','Price','Star Rating'])"
      ],
      "metadata": {
        "id": "y0KDWfF7rOy8"
      },
      "execution_count": 35,
      "outputs": []
    },
    {
      "cell_type": "code",
      "source": [
        "df.to_csv('books.csv')"
      ],
      "metadata": {
        "id": "r7IJmPZOrdix"
      },
      "execution_count": 37,
      "outputs": []
    }
  ]
}