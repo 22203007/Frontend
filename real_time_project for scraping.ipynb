{
  "nbformat": 4,
  "nbformat_minor": 0,
  "metadata": {
    "colab": {
      "provenance": [],
      "authorship_tag": "ABX9TyMPHhpmsGCD+e0BJvVYGC/P",
      "include_colab_link": true
    },
    "kernelspec": {
      "name": "python3",
      "display_name": "Python 3"
    },
    "language_info": {
      "name": "python"
    }
  },
  "cells": [
    {
      "cell_type": "markdown",
      "metadata": {
        "id": "view-in-github",
        "colab_type": "text"
      },
      "source": [
        "<a href=\"https://colab.research.google.com/github/22203007/Bhuvan/blob/main/real_time_project%20for%20scraping.ipynb\" target=\"_parent\"><img src=\"https://colab.research.google.com/assets/colab-badge.svg\" alt=\"Open In Colab\"/></a>"
      ]
    },
    {
      "cell_type": "code",
      "source": [
        "import pandas as pd\n",
        "import requests\n",
        "from bs4 import BeautifulSoup\n",
        "from openpyxl.styles import Font\n",
        "\n",
        "# Send a GET request to the website\n",
        "url = \"https://www.omiclear.pt/en/dados-mercado?date=2024-05-23&product=NG&zone=ES&instrument=FGF\"\n",
        "response = requests.get(url)\n",
        "\n",
        "# Parse the HTML content using BeautifulSoup\n",
        "soup = BeautifulSoup(response.content, 'html.parser')\n",
        "\n",
        "# Find the input tag with the date value\n",
        "input_tag = soup.find('input', {'type': 'date'})\n",
        "\n",
        "# Extract the date value from the input tag\n",
        "date_value = input_tag['value']\n",
        "\n",
        "# Find all tables on the page\n",
        "tables = soup.find_all('table')\n",
        "\n",
        "# Create a list to store the table data\n",
        "table_data = []\n",
        "\n",
        "# Loop through each table\n",
        "for table in tables:\n",
        "    # Extract the table headers\n",
        "    headers = [th.text.strip() for th in table.find('tr').find_all('th')]\n",
        "\n",
        "    # Extract the table data\n",
        "    data = []\n",
        "    for row in table.find_all('tr')[1:]:\n",
        "        row_data = []\n",
        "        for td in row.find_all('td'):\n",
        "            # Extract the text outside the <span> tags\n",
        "            text = td.text.strip()\n",
        "            for span in td.find_all('span'):\n",
        "                text = text.replace(span.text, '')\n",
        "            row_data.append(text.strip())\n",
        "        data.append(row_data)\n",
        "\n",
        "    # Create a Pandas DataFrame from the table data\n",
        "    # Use the first row as the column names\n",
        "    df = pd.DataFrame(data[1:], columns=data[0])\n",
        "\n",
        "    # Add the DataFrame to the list\n",
        "    table_data.append(df)\n",
        "\n",
        "# Concatenate the DataFrames\n",
        "combined_df = pd.concat(table_data, ignore_index=True)\n",
        "\n",
        "# Create an Excel writer\n",
        "with pd.ExcelWriter(f'{date_value}.xlsx') as writer:\n",
        "    # Write the combined DataFrame to a single sheet\n",
        "    combined_df.to_excel(writer, sheet_name='FGF', index=False, header=True)\n",
        "\n",
        "    # Get the workbook and worksheet objects\n",
        "    workbook = writer.book\n",
        "    worksheet = writer.sheets['FGF']\n",
        "\n",
        "    # Set the format for the header row\n",
        "    for cell in worksheet[1]:\n",
        "        cell.font = Font(bold=True)\n",
        "\n",
        "print(\"Data saved to\", date_value, \".xlsx\")"
      ],
      "metadata": {
        "colab": {
          "base_uri": "https://localhost:8080/"
        },
        "id": "b-lGfeDi0GmV",
        "outputId": "2134eae5-0c89-4b3d-902f-5c51861072ff"
      },
      "execution_count": null,
      "outputs": [
        {
          "output_type": "stream",
          "name": "stdout",
          "text": [
            "Data saved to 2024-05-23 .xlsx\n"
          ]
        }
      ]
    }
  ]
}